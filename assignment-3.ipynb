{
 "cells": [
  {
   "cell_type": "markdown",
   "id": "8349a69e-3c0b-49aa-bad0-f2c562b1ba3d",
   "metadata": {},
   "source": [
    "Q 1 \n",
    "# Create 2 lists from a given list where \n",
    "# 1st list will contain all the odd numbers from the original list and\n",
    "# the 2nd one will contain all the even numbers\n",
    "L = [1,2,3,4,5,6]"
   ]
  },
  {
   "cell_type": "code",
   "execution_count": 1,
   "id": "30fb91f1-f2ab-428e-85fa-5a68d3329a2a",
   "metadata": {},
   "outputs": [
    {
     "name": "stdout",
     "output_type": "stream",
     "text": [
      "L:  [1, 2, 3, 4, 5, 6]\n",
      "List of Even number:  []\n",
      "List of Odd number:  [1]\n",
      "L:  [1, 2, 3, 4, 5, 6]\n",
      "List of Even number:  [2]\n",
      "List of Odd number:  [1, 3]\n",
      "L:  [1, 2, 3, 4, 5, 6]\n",
      "List of Even number:  [2, 4]\n",
      "List of Odd number:  [1, 3, 5]\n"
     ]
    }
   ],
   "source": [
    "L=[1,2,3,4,5,6]\n",
    "lOdd=[]\n",
    "lEven=[]\n",
    "for n in L:\n",
    "    if n%2==0:\n",
    "        lEven.append(n)\n",
    "    else:\n",
    "        lOdd.append(n)\n",
    "        print(\"L: \",L)\n",
    "        print(\"List of Even number: \",lEven)\n",
    "        print(\"List of Odd number: \",lOdd)"
   ]
  },
  {
   "cell_type": "markdown",
   "id": "ab6ec6c2-4779-49fd-934b-dc4e00c4b980",
   "metadata": {},
   "source": [
    "Q 2\n",
    "# How to take list as input from user"
   ]
  },
  {
   "cell_type": "code",
   "execution_count": null,
   "id": "19f8c169-3208-447b-b531-27cd99aedfcd",
   "metadata": {},
   "outputs": [
    {
     "name": "stdin",
     "output_type": "stream",
     "text": [
      "Enter number of elements : 4\n",
      " 1\n"
     ]
    }
   ],
   "source": [
    "list=[]\n",
    "n=int(input(\"Enter number of elements :\"))\n",
    "for i in range (0,n):\n",
    "    element=int(input())\n",
    "    list.append(element)\n",
    "print(list)"
   ]
  },
  {
   "cell_type": "markdown",
   "id": "f8ba0ec1-0711-4f04-bc15-466ed6647af7",
   "metadata": {},
   "source": [
    "Q 3 \n",
    "# Write a program to merge 2 list without using the + operator\n",
    "L1 = [1,2,3,4]\n",
    "L2 = [5,6,7,8]"
   ]
  },
  {
   "cell_type": "code",
   "execution_count": 1,
   "id": "83c00c04-cee3-47dd-90d6-23b56e437dda",
   "metadata": {},
   "outputs": [
    {
     "name": "stdout",
     "output_type": "stream",
     "text": [
      "List after merged : [1, 2, 3, 4, 5]\n",
      "List after merged : [1, 2, 3, 4, 5, 6]\n",
      "List after merged : [1, 2, 3, 4, 5, 6, 7]\n",
      "List after merged : [1, 2, 3, 4, 5, 6, 7, 8]\n"
     ]
    }
   ],
   "source": [
    "L1=[1,2,3,4]\n",
    "L2=[5,6,7,8]\n",
    "for x in L2:\n",
    "    L1.append(x)\n",
    "    print(\"List after merged :\",L1)"
   ]
  },
  {
   "cell_type": "markdown",
   "id": "03001b18-d89c-4463-97c3-b4ea777a338e",
   "metadata": {},
   "source": [
    "Q 4\n",
    "# Write a program to replace an item with a different item if found in the list \n",
    "L = [1,2,3,4,5,3]\n",
    "# replace 3 with 300"
   ]
  },
  {
   "cell_type": "code",
   "execution_count": 2,
   "id": "b9b23d39-2095-4b67-bf8a-772558ce061e",
   "metadata": {},
   "outputs": [
    {
     "name": "stdout",
     "output_type": "stream",
     "text": [
      "[1, 2, 3, 4, 5, 3]\n",
      "[1, 2, 3, 4, 5, 3]\n"
     ]
    }
   ],
   "source": [
    "L=[1,2,3,4,5,3]\n",
    "for i in range (len(L)):\n",
    "    if L[i]==3:\n",
    "        L[i]==300\n",
    "        print(L)"
   ]
  },
  {
   "cell_type": "markdown",
   "id": "a42ff0f0-12b9-4527-a0ee-2eb3af514946",
   "metadata": {},
   "source": [
    "Q 5 \n",
    "# Write a program that can convert a 2D list to 1D list"
   ]
  },
  {
   "cell_type": "code",
   "execution_count": 3,
   "id": "e0c446f5-d0e8-4ad4-9ca3-444d2089f18c",
   "metadata": {},
   "outputs": [
    {
     "name": "stdout",
     "output_type": "stream",
     "text": [
      "The 2D list [[1 2 3]\n",
      " [2 4 5]\n",
      " [1 2 3]]\n",
      "The 1D list: [1 2 3 2 4 5 1 2 3]\n"
     ]
    }
   ],
   "source": [
    "import numpy as np\n",
    "list1=np.array([[1,2,3],[2,4,5],[1,2,3]])\n",
    "print(\"The 2D list\",str(list1))\n",
    "result=list1.flatten()\n",
    "print(\"The 1D list:\",result)"
   ]
  },
  {
   "cell_type": "markdown",
   "id": "4be80d64-4354-4504-9a75-87cbfc3a1a09",
   "metadata": {},
   "source": [
    "Q 6 \n",
    "# Write a program to remove duplicate items from a list\n",
    "\n",
    "L = [1,2,1,2,3,4,5,3,4]"
   ]
  },
  {
   "cell_type": "code",
   "execution_count": 4,
   "id": "de0a3647-1fe3-436b-be78-e47b284b8e1c",
   "metadata": {},
   "outputs": [
    {
     "name": "stdout",
     "output_type": "stream",
     "text": [
      "The list before: [1, 2, 1, 2, 3, 4, 5, 3, 4]\n",
      "The list after removing duplicate:  [1]\n",
      "The list after removing duplicate:  [1, 2]\n",
      "The list after removing duplicate:  [1, 2, 3]\n",
      "The list after removing duplicate:  [1, 2, 3, 4]\n",
      "The list after removing duplicate:  [1, 2, 3, 4, 5]\n"
     ]
    }
   ],
   "source": [
    "L=[1,2,1,2,3,4,5,3,4]\n",
    "print(\"The list before:\",L)\n",
    "l1=[]\n",
    "for i in L:\n",
    "    if i not in l1:\n",
    "        l1.append(i)\n",
    "        print(\"The list after removing duplicate: \",l1)"
   ]
  },
  {
   "cell_type": "markdown",
   "id": "5af613c2-2c31-4701-adf7-8ace37f7cfdb",
   "metadata": {},
   "source": [
    "Q 7 \n",
    "# Write a program to check if a list is in ascending order or not"
   ]
  },
  {
   "cell_type": "code",
   "execution_count": 2,
   "id": "84680ad3-750c-4be0-adb7-bc8173a4bf51",
   "metadata": {},
   "outputs": [
    {
     "name": "stdout",
     "output_type": "stream",
     "text": [
      "List [1, 2, 3, 4, 5]: Ascending? True\n",
      "List [1, 3, 2, 4, 5]: Ascending? False\n"
     ]
    }
   ],
   "source": [
    "def is_ascending(lst):\n",
    "        for i in range(len(lst) - 1):\n",
    "            if lst[i] > lst[i + 1]:\n",
    "                return False\n",
    "        return True\n",
    "\n",
    "list1 = [1, 2, 3, 4, 5]\n",
    "list2 = [1, 3, 2, 4, 5]\n",
    "print(f\"List {list1}: Ascending? {is_ascending(list1)}\")\n",
    "print(f\"List {list2}: Ascending? {is_ascending(list2)}\")"
   ]
  },
  {
   "cell_type": "code",
   "execution_count": null,
   "id": "f279afdc-49e9-4560-8634-43dd3ce04c13",
   "metadata": {},
   "outputs": [],
   "source": []
  }
 ],
 "metadata": {
  "kernelspec": {
   "display_name": "Python 3 (ipykernel)",
   "language": "python",
   "name": "python3"
  },
  "language_info": {
   "codemirror_mode": {
    "name": "ipython",
    "version": 3
   },
   "file_extension": ".py",
   "mimetype": "text/x-python",
   "name": "python",
   "nbconvert_exporter": "python",
   "pygments_lexer": "ipython3",
   "version": "3.11.7"
  }
 },
 "nbformat": 4,
 "nbformat_minor": 5
}

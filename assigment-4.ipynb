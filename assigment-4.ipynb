{
 "cells": [
  {
   "cell_type": "markdown",
   "id": "2723cca9-058a-43aa-9120-226f9aab52a5",
   "metadata": {},
   "source": [
    "Q1: Join Tuples if similar initial element\n",
    "While working with Python tuples, we can have a problem in which we need to perform concatenation of records from the similarity of initial element. This problem can have applications in data domains such as Data Science.\n",
    "\n",
    "For eg.\n",
    "\n",
    "Input  : test_list = [(5, 6), (5, 7), (5, 8), (6, 10), (7, 13)] \n",
    "Output : [(5, 6, 7, 8), (6, 10), (7, 13)] \n"
   ]
  },
  {
   "cell_type": "code",
   "execution_count": 1,
   "id": "51c89560-a6e5-4256-bc08-76371a3ade7a",
   "metadata": {},
   "outputs": [
    {
     "name": "stdout",
     "output_type": "stream",
     "text": [
      "[(5, 6, 7, 8), (6, 10), (7, 13)]\n"
     ]
    }
   ],
   "source": [
    "def join_tuples_by_initial_element(test_list):\n",
    "    # Step 1: Initialize a dictionary\n",
    "    dict_tuples = {}\n",
    "    \n",
    "    # Step 2: Populate the dictionary\n",
    "    for tup in test_list:\n",
    "        key = tup[0]\n",
    "        value = tup[1]\n",
    "        if key in dict_tuples:\n",
    "            dict_tuples[key].append(value)\n",
    "        else:\n",
    "            dict_tuples[key] = [value]\n",
    "    \n",
    "    # Step 3: Construct the output list\n",
    "    output_list = [(key,) + tuple(values) for key, values in dict_tuples.items()]\n",
    "    \n",
    "    # Step 4: Return the output list\n",
    "    return output_list\n",
    "\n",
    "# Example usage:\n",
    "test_list = [(5, 6), (5, 7), (5, 8), (6, 10), (7, 13)]\n",
    "output = join_tuples_by_initial_element(test_list)\n",
    "print(output)  # Output: [(5, 6, 7, 8), (6, 10), (7, 13)]"
   ]
  },
  {
   "cell_type": "markdown",
   "id": "c1ce1344-695d-4204-a6e6-e2a3cb3c577f",
   "metadata": {},
   "source": [
    "Q2: Multiply Adjacent elements (both side) and take sum of right and lest side multiplication result.\n",
    "For eg.\n",
    "\n",
    "The original tuple : (1, 5, 7, 8, 10)\n",
    "Resultant tuple after multiplication : \n",
    "\n",
    "(1*5, 1*5+5*7, 7*5 + 7*8, 8*7 + 8*10, 10*8) -> (5, 40, 91, 136, 80)\n",
    "\n",
    "output-(5, 40, 91, 136, 80)\n"
   ]
  },
  {
   "cell_type": "code",
   "execution_count": 2,
   "id": "e1596d46-b72a-49fa-a2ce-e77944f7122b",
   "metadata": {},
   "outputs": [
    {
     "name": "stdout",
     "output_type": "stream",
     "text": [
      "(15, 40, 91, 136, 90)\n"
     ]
    }
   ],
   "source": [
    "def transform_tuple(t):\n",
    "    n = len(t)\n",
    "    result = []\n",
    "    \n",
    "    for i in range(n):\n",
    "        left_adj = t[(i-1) % n]\n",
    "        right_adj = t[(i+1) % n]\n",
    "        \n",
    "        # Calculate the sum of the adjacent multiplications\n",
    "        adj_sum = left_adj * t[i] + right_adj * t[i]\n",
    "        \n",
    "        result.append(adj_sum)\n",
    "    \n",
    "    return tuple(result)\n",
    "\n",
    "# Example usage:\n",
    "original_tuple = (1, 5, 7, 8, 10)\n",
    "result_tuple = transform_tuple(original_tuple)\n",
    "print(result_tuple)"
   ]
  },
  {
   "cell_type": "markdown",
   "id": "7a187b16-c783-4e3b-b233-587e8dc21c43",
   "metadata": {},
   "source": [
    "Q3: Check is tuples are same or not?\n",
    "Two tuples would be same if both tuples have same element at same index\n",
    "\n",
    "t1 = (1,2,3,0)\n",
    "t2 = (0,1,2,3)\n",
    "\n",
    "t1 and t2 are not same\n"
   ]
  },
  {
   "cell_type": "code",
   "execution_count": 3,
   "id": "25d17cb3-353a-433c-b141-dad208a501c1",
   "metadata": {},
   "outputs": [
    {
     "name": "stdout",
     "output_type": "stream",
     "text": [
      "False\n"
     ]
    }
   ],
   "source": [
    "t1 = (1, 2, 3, 0)\n",
    "t2 = (0, 1, 2, 3)\n",
    "\n",
    "# Check if the tuples are the same\n",
    "are_tuples_same = t1 == t2\n",
    "\n",
    "print(are_tuples_same)  # This will print False because t1 and t2 are not the same"
   ]
  },
  {
   "cell_type": "markdown",
   "id": "57dad985-803a-4c1a-a5d0-a96e15e5c289",
   "metadata": {},
   "source": [
    "Q4: Count no of tuples, list and set from a list\n",
    "list1 = [{'hi', 'bye'},{'Geeks', 'forGeeks'},('a', 'b'),['hi', 'bye'],['a', 'b']]\n",
    "Output:\n",
    "\n",
    "List-2\n",
    "Set-2\n",
    "Tuples-1\n"
   ]
  },
  {
   "cell_type": "code",
   "execution_count": 4,
   "id": "82e32998-65b7-4460-b6cc-6e2ffec6ec46",
   "metadata": {},
   "outputs": [
    {
     "name": "stdout",
     "output_type": "stream",
     "text": [
      "List - 2 Set - 2 Tuples - 1\n"
     ]
    }
   ],
   "source": [
    "list1 = [{'hi', 'bye'}, {'Geeks', 'forGeeks'}, ('a', 'b'), ['hi', 'bye'], ['a', 'b']]\n",
    "\n",
    "count_tuple = 0\n",
    "count_list = 0\n",
    "count_set = 0\n",
    "\n",
    "for item in list1:\n",
    "    if isinstance(item, tuple):\n",
    "        count_tuple += 1\n",
    "    elif isinstance(item, list):\n",
    "        count_list += 1\n",
    "    elif isinstance(item, set):\n",
    "        count_set += 1\n",
    "\n",
    "print(f\"List - {count_list} Set - {count_set} Tuples - {count_tuple}\")"
   ]
  },
  {
   "cell_type": "markdown",
   "id": "1944f026-c709-45cf-8c8a-c6da9cff9050",
   "metadata": {},
   "source": [
    "Q5: Shortlist Students for a Job role\n",
    "Ask user to input students record and store in tuples for each record. Then Ask user to input three things he wants in the candidate- Primary Skill, Higher Education, Year of Graduation.\n",
    "\n",
    "Show every students record in form of tuples if matches all required criteria.\n",
    "\n",
    "It is assumed that there will be only one primry skill.\n",
    "\n",
    "If no such candidate found, print No such candidate\n",
    "\n",
    "Input:\n",
    "\n"
   ]
  },
  {
   "cell_type": "code",
   "execution_count": 1,
   "id": "070b7cfa-3ed1-4387-9e82-51aea41c40be",
   "metadata": {},
   "outputs": [
    {
     "name": "stdin",
     "output_type": "stream",
     "text": [
      "Enter number of records:  2\n"
     ]
    },
    {
     "name": "stdout",
     "output_type": "stream",
     "text": [
      "\n",
      "Enter Details of student-1\n"
     ]
    },
    {
     "name": "stdin",
     "output_type": "stream",
     "text": [
      "Enter Student name:  manohar\n",
      "Enter Higher Education:  B.tech\n",
      "Enter Primary Skill:  python\n",
      "Enter Year of Graduation:  2022\n"
     ]
    },
    {
     "name": "stdout",
     "output_type": "stream",
     "text": [
      "\n",
      "Enter Details of student-2\n"
     ]
    },
    {
     "name": "stdin",
     "output_type": "stream",
     "text": [
      "Enter Student name:  panio\n",
      "Enter Higher Education:  B.sc\n",
      "Enter Primary Skill:  C++\n",
      "Enter Year of Graduation:  2022\n"
     ]
    },
    {
     "name": "stdout",
     "output_type": "stream",
     "text": [
      "\n",
      "Enter Job Role Requirement\n"
     ]
    },
    {
     "name": "stdin",
     "output_type": "stream",
     "text": [
      "Enter Skill:  python\n",
      "Enter Higher Education:  B.tech\n",
      "Enter Year of Graduation:  2022\n"
     ]
    },
    {
     "name": "stdout",
     "output_type": "stream",
     "text": [
      "('manohar', 'B.tech', 'python', '2022')\n"
     ]
    }
   ],
   "source": [
    "def get_student_records():\n",
    "    students = []\n",
    "    num_records = int(input(\"Enter number of records: \"))\n",
    "    \n",
    "    for i in range(num_records):\n",
    "        print(f\"\\nEnter Details of student-{i+1}\")\n",
    "        name = input(\"Enter Student name: \")\n",
    "        education = input(\"Enter Higher Education: \")\n",
    "        skill = input(\"Enter Primary Skill: \")\n",
    "        graduation_year = input(\"Enter Year of Graduation: \")\n",
    "        students.append((name, education, skill, graduation_year))\n",
    "    \n",
    "    return students\n",
    "\n",
    "def get_job_requirements():\n",
    "    print(\"\\nEnter Job Role Requirement\")\n",
    "    skill = input(\"Enter Skill: \")\n",
    "    education = input(\"Enter Higher Education: \")\n",
    "    graduation_year = input(\"Enter Year of Graduation: \")\n",
    "    \n",
    "    return skill, education, graduation_year\n",
    "\n",
    "def find_matching_candidates(students, requirements):\n",
    "    matches = [student for student in students if (student[2] == requirements[0] and \n",
    "                                                   student[1] == requirements[1] and \n",
    "                                                   student[3] == requirements[2])]\n",
    "    \n",
    "    return matches\n",
    "\n",
    "students = get_student_records()\n",
    "requirements = get_job_requirements()\n",
    "matches = find_matching_candidates(students, requirements)\n",
    "\n",
    "if matches:\n",
    "    for match in matches:\n",
    "        print(match)\n",
    "else:\n",
    "    print(\"No such candidate\")"
   ]
  },
  {
   "cell_type": "markdown",
   "id": "aaec59c2-aff3-403d-aa0f-82cb39c8211f",
   "metadata": {},
   "source": [
    "#set"
   ]
  },
  {
   "cell_type": "markdown",
   "id": "52dbefdd-c65d-41d6-8f07-ffd421886331",
   "metadata": {},
   "source": [
    "Q1: Write a program to find set of common elements in three lists using sets.\n",
    "Input : ar1 = [1, 5, 10, 20, 40, 80]\n",
    "        ar2 = [6, 7, 20, 80, 100]\n",
    "        ar3 = [3, 4, 15, 20, 30, 70, 80, 120]\n",
    "\n",
    "Output : [80, 20]\n"
   ]
  },
  {
   "cell_type": "code",
   "execution_count": 2,
   "id": "3789d3d9-703f-4a97-afe4-969838bfbabc",
   "metadata": {},
   "outputs": [
    {
     "name": "stdout",
     "output_type": "stream",
     "text": [
      "[80, 20]\n"
     ]
    }
   ],
   "source": [
    "def find_common_elements(ar1, ar2, ar3):\n",
    "    # Convert lists to sets\n",
    "    set1 = set(ar1)\n",
    "    set2 = set(ar2)\n",
    "    set3 = set(ar3)\n",
    "    \n",
    "    # Find the intersection of the three sets\n",
    "    common_elements = set1.intersection(set2).intersection(set3)\n",
    "    \n",
    "    # Convert the result to a list\n",
    "    common_elements_list = list(common_elements)\n",
    "    \n",
    "    return common_elements_list\n",
    "\n",
    "# Example usage\n",
    "ar1 = [1, 5, 10, 20, 40, 80]\n",
    "ar2 = [6, 7, 20, 80, 100]\n",
    "ar3 = [3, 4, 15, 20, 30, 70, 80, 120]\n",
    "\n",
    "print(find_common_elements(ar1, ar2, ar3))"
   ]
  },
  {
   "cell_type": "markdown",
   "id": "7927b15f-c38d-4c4d-9191-0163746cda85",
   "metadata": {},
   "source": [
    "Q2: Write a program to count unique number of vowels using sets in a given string. Lowercase and upercase vowels will be taken as different.\n",
    "Input:\n",
    "\n",
    "Str1 = \"hands-on data science mentorship progrAm with live classes at affordable fee only on CampusX\"\n",
    "Output:\n",
    "\n",
    "No of unique vowels-6\n"
   ]
  },
  {
   "cell_type": "code",
   "execution_count": 3,
   "id": "e2a0636c-393f-4dec-be90-6e2a58fdc9fd",
   "metadata": {},
   "outputs": [
    {
     "name": "stdout",
     "output_type": "stream",
     "text": [
      "No of unique vowels- 6\n"
     ]
    }
   ],
   "source": [
    "def count_unique_vowels(s):\n",
    "    vowels = {'a', 'e', 'i', 'o', 'u', 'A', 'E', 'I', 'O', 'U'}\n",
    "    unique_vowels = set()\n",
    "\n",
    "    for char in s:\n",
    "        if char in vowels:\n",
    "            unique_vowels.add(char)\n",
    "\n",
    "    return len(unique_vowels)\n",
    "\n",
    "# Test the function with the provided input\n",
    "str1 = \"hands-on data science mentorship progrAm with live classes at affordable fee only on CampusX\"\n",
    "print(\"No of unique vowels-\", count_unique_vowels(str1))"
   ]
  },
  {
   "cell_type": "markdown",
   "id": "db44b8b2-9c55-4706-8833-2f1b369d2a15",
   "metadata": {},
   "source": [
    "Q3: Write a program to Check if a given string is binary string of or not.\n",
    "A string is said to be binary if it's consists of only two unique characters.\n",
    "\n",
    "Take string input from user.\n",
    "\n",
    "Input: str = \"01010101010\"\n",
    "Output: Yes\n",
    "\n",
    "Input: str = \"1222211\"\n",
    "Output: Yes\n",
    "\n",
    "Input: str = \"Campusx\"\n",
    "Output: No\n",
    "[ ]\n"
   ]
  },
  {
   "cell_type": "code",
   "execution_count": null,
   "id": "bd35028f-5978-44c2-9995-c1dfb70c388b",
   "metadata": {},
   "outputs": [],
   "source": [
    "def is_binary_string(s):\n",
    "    # Convert the string to a set to get unique characters\n",
    "    unique_chars = set(s)\n",
    "    # Check if the length of the set is 2\n",
    "    return len(unique_chars) == 2\n",
    "\n",
    "# Take string input from user\n",
    "input_str = input(\"Enter a string: \")\n",
    "\n",
    "# Check if the string is binary and print the result\n",
    "if is_binary_string(input_str):\n",
    "    print(\"Yes\")\n",
    "else:\n",
    "    print(\"No\")"
   ]
  },
  {
   "cell_type": "markdown",
   "id": "268b2824-aa55-4b85-95c0-ff83fd1c1b2f",
   "metadata": {},
   "source": [
    "Q4: find union of n arrays.\n",
    "Example 1:\n",
    "\n",
    "Input:\n",
    "\n",
    "[[1, 2, 2, 4, 3, 6],\n",
    " [5, 1, 3, 4],\n",
    " [9, 5, 7, 1],\n",
    " [2, 4, 1, 3]]\n",
    "Output:\n",
    "\n",
    "[1, 2, 3, 4, 5, 6, 7, 9]\n"
   ]
  },
  {
   "cell_type": "code",
   "execution_count": 1,
   "id": "7a2c00b0-b0e2-409d-b79c-5ccd01a4f0ad",
   "metadata": {},
   "outputs": [
    {
     "name": "stdout",
     "output_type": "stream",
     "text": [
      "[1, 2, 3, 4, 5, 6, 7, 9]\n"
     ]
    }
   ],
   "source": [
    "def union_of_arrays(arrays):\n",
    "    result = set()\n",
    "    for array in arrays:\n",
    "        result.update(array)\n",
    "    return sorted(result)  # If you need the result sorted as in your example\n",
    "\n",
    "# Example usage:\n",
    "arrays = [\n",
    "    [1, 2, 2, 4, 3, 6],\n",
    "    [5, 1, 3, 4],\n",
    "    [9, 5, 7, 1],\n",
    "    [2, 4, 1, 3]\n",
    "]\n",
    "\n",
    "print(union_of_arrays(arrays))  "
   ]
  },
  {
   "cell_type": "markdown",
   "id": "db206a28-ecb4-4900-8822-a4f75c415570",
   "metadata": {},
   "source": [
    "Q5: Intersection of two lists. Intersection of two list means we need to take all those elements which are common to both of the initial lists and store them into another list. Only use using list-comprehension.\n"
   ]
  },
  {
   "cell_type": "code",
   "execution_count": 2,
   "id": "a820e29e-2671-4623-9264-227819a83893",
   "metadata": {},
   "outputs": [
    {
     "name": "stdout",
     "output_type": "stream",
     "text": [
      "[4, 5, 9, 10]\n"
     ]
    }
   ],
   "source": [
    "lst1 = {15, 9, 10, 56, 23, 78, 5, 4, 9}\n",
    "lst2 = {9, 4, 5, 36, 47, 26, 10, 45, 87}\n",
    "\n",
    "intersection = [x for x in lst1 if x in lst2]\n",
    "\n",
    "print(intersection)"
   ]
  },
  {
   "cell_type": "markdown",
   "id": "1819f34a-0597-4f45-b4e1-9c618f3deba4",
   "metadata": {},
   "source": [
    "# Dictionary"
   ]
  },
  {
   "cell_type": "markdown",
   "id": "72bec2e5-27c2-4e1d-9dfd-b83fb25663d9",
   "metadata": {},
   "source": [
    "Q1: Key with maximum unique values\n",
    "Given a dictionary with values list, extract key whose value has most unique values.\n",
    "\n",
    "Example 1:\n",
    "\n",
    "Input:\n",
    "\n",
    "test_dict = {\"CampusX\" : [5, 7, 9, 4, 0], \"is\" : [6, 7, 4, 3, 3], \"Best\" : [9, 9, 6, 5, 5]}\n"
   ]
  },
  {
   "cell_type": "code",
   "execution_count": 5,
   "id": "e403b5be-8b6e-45b7-864d-8ffbd0670a6d",
   "metadata": {},
   "outputs": [
    {
     "name": "stdout",
     "output_type": "stream",
     "text": [
      "{'a': [4, 19], 'b': [10, 12], 'c': [3]}\n"
     ]
    }
   ],
   "source": [
    "def sort_dict(d):\n",
    "    # Sort the dictionary by keys and sort the values\n",
    "    sorted_dict = {k: sorted(v) for k, v in sorted(d.items())}\n",
    "    return sorted_dict\n",
    "\n",
    "# Example input\n",
    "input_dict = {'c': [3], 'b': [12, 10], 'a': [19, 4]}\n",
    "\n",
    "# Get the sorted dictionary\n",
    "output_dict = sort_dict(input_dict)\n",
    "\n",
    "print(output_dict)"
   ]
  },
  {
   "cell_type": "markdown",
   "id": "6aaaf457-e412-48be-8705-cc5cb4da4fcc",
   "metadata": {},
   "source": [
    "Q2: Replace words from Dictionary. Given String, replace it’s words from lookup dictionary.\n",
    "Example 1:\n",
    "\n",
    "Input:\n",
    "\n",
    "test_str = 'CampusX best for DS students.'\n",
    "repl_dict = {\"best\" : \"is the best channel\", \"DS\" : \"Data-Science\"}\n",
    "Output:\n",
    "\n",
    "CampusX is the best channel for Data-Science students.\n"
   ]
  },
  {
   "cell_type": "code",
   "execution_count": 1,
   "id": "db75f44e-f90a-4122-a41d-2550313db7dc",
   "metadata": {},
   "outputs": [
    {
     "name": "stdout",
     "output_type": "stream",
     "text": [
      "CampusX is the best channel for Data-Science students.\n"
     ]
    }
   ],
   "source": [
    "import re\n",
    "\n",
    "def replace_words(test_str, repl_dict):\n",
    "    # Sort the keys by length in descending order to avoid partial replacements\n",
    "    sorted_keys = sorted(repl_dict.keys(), key=len, reverse=True)\n",
    "    \n",
    "    # Create a regex pattern with all keys\n",
    "    pattern = re.compile(r'\\b(' + '|'.join(map(re.escape, sorted_keys)) + r')\\b')\n",
    "    \n",
    "    # Function to replace each match with the corresponding value from the dictionary\n",
    "    result = pattern.sub(lambda x: repl_dict[x.group()], test_str)\n",
    "    \n",
    "    return result\n",
    "\n",
    "# Example usage\n",
    "test_str = 'CampusX best for DS students.'\n",
    "repl_dict = {\"best\": \"is the best channel\", \"DS\": \"Data-Science\"}\n",
    "\n",
    "output = replace_words(test_str, repl_dict)\n",
    "print(output)  # Output: CampusX is the best channel for Data-Science students."
   ]
  },
  {
   "cell_type": "markdown",
   "id": "81454b76-e369-4209-a7e4-faa7f8ee6f26",
   "metadata": {},
   "source": [
    "Q3: Convert List to List of dictionaries. Given list values and keys list, convert these values to key value pairs in form of list of dictionaries.\n",
    "Example 1:\n",
    "\n",
    "Input:\n",
    "\n",
    "test_list = [\"DataScience\", 3, \"is\", 8]\n",
    "key_list = [\"name\", \"id\"]\n",
    "Output:\n",
    "\n",
    "[{'name': 'DataScience', 'id': 3}, {'name': 'is', 'id': 8}]\n"
   ]
  },
  {
   "cell_type": "code",
   "execution_count": 2,
   "id": "029e2273-0db9-401d-a481-de19844e832e",
   "metadata": {},
   "outputs": [
    {
     "name": "stdout",
     "output_type": "stream",
     "text": [
      "[{'name': 'DataScience', 'id': 3}, {'name': 'is', 'id': 8}]\n"
     ]
    }
   ],
   "source": [
    "def list_to_dict_list(values_list, keys_list):\n",
    "    # Initialize the result list\n",
    "    result = []\n",
    "    \n",
    "    # Calculate the number of dictionaries we will have\n",
    "    num_dicts = len(values_list) // len(keys_list)\n",
    "    \n",
    "    for i in range(num_dicts):\n",
    "        # Create a dictionary for each segment of the values_list\n",
    "        temp_dict = {}\n",
    "        for j in range(len(keys_list)):\n",
    "            temp_dict[keys_list[j]] = values_list[i * len(keys_list) + j]\n",
    "        result.append(temp_dict)\n",
    "    \n",
    "    return result\n",
    "\n",
    "# Example usage:\n",
    "test_list = [\"DataScience\", 3, \"is\", 8]\n",
    "key_list = [\"name\", \"id\"]\n",
    "output = list_to_dict_list(test_list, key_list)\n",
    "print(output)"
   ]
  },
  {
   "cell_type": "markdown",
   "id": "d7ed6f61-ffe2-4125-b0d9-8228b6779c7d",
   "metadata": {},
   "source": [
    "Q4: Convert a list of Tuples into Dictionary.\n",
    "Example 1:\n",
    "\n",
    "Input:\n",
    "\n",
    "[(\"akash\", 10), (\"gaurav\", 12), (\"anand\", 14), (\"suraj\", 20), (\"akhil\", 25), (\"ashish\", 30)]\n",
    "Output:\n",
    "\n",
    "{'akash': [10], 'gaurav': [12], 'anand': [14], 'suraj': [20], 'akhil': [25], 'ashish': [30]}\n",
    "\n"
   ]
  },
  {
   "cell_type": "code",
   "execution_count": 3,
   "id": "d27f09ab-83dc-4183-90df-0a79a6a7d01a",
   "metadata": {},
   "outputs": [
    {
     "name": "stdout",
     "output_type": "stream",
     "text": [
      "{'akash': [10], 'gaurav': [12], 'anand': [14], 'suraj': [20], 'akhil': [25], 'ashish': [30]}\n"
     ]
    }
   ],
   "source": [
    "def tuples_to_dict(tuples_list):\n",
    "    result = {}\n",
    "    \n",
    "    for key, value in tuples_list:\n",
    "        if key in result:\n",
    "            result[key].append(value)\n",
    "        else:\n",
    "            result[key] = [value]\n",
    "    \n",
    "    return result\n",
    "\n",
    "# Example usage:\n",
    "input_list = [(\"akash\", 10), (\"gaurav\", 12), (\"anand\", 14), (\"suraj\", 20), (\"akhil\", 25), (\"ashish\", 30)]\n",
    "output = tuples_to_dict(input_list)\n",
    "print(output)"
   ]
  },
  {
   "cell_type": "markdown",
   "id": "4905eddb-0e98-4084-a95a-bcfa368a677d",
   "metadata": {},
   "source": [
    "Q5: Sort Dictionary key and values List.\n",
    "Example 1:\n",
    "\n",
    "Input:\n",
    "\n",
    "{'c': [3], 'b': [12, 10], 'a': [19, 4]}\n",
    "Output:\n",
    "\n",
    "{'a': [4, 19], 'b': [10, 12], 'c': [3]}\n"
   ]
  },
  {
   "cell_type": "code",
   "execution_count": 4,
   "id": "9e7c2475-29f7-4379-9b8f-72f5097f18bf",
   "metadata": {},
   "outputs": [
    {
     "name": "stdout",
     "output_type": "stream",
     "text": [
      "{'a': [4, 19], 'b': [10, 12], 'c': [3]}\n"
     ]
    }
   ],
   "source": [
    "def sort_dict(d):\n",
    "    # Sort the dictionary by keys and sort the values\n",
    "    sorted_dict = {k: sorted(v) for k, v in sorted(d.items())}\n",
    "    return sorted_dict\n",
    "\n",
    "# Example input\n",
    "input_dict = {'c': [3], 'b': [12, 10], 'a': [19, 4]}\n",
    "\n",
    "# Get the sorted dictionary\n",
    "output_dict = sort_dict(input_dict)\n",
    "\n",
    "print(output_dict)"
   ]
  },
  {
   "cell_type": "code",
   "execution_count": null,
   "id": "527c13ae-a3f3-43a1-b09d-790dd3fa5e6e",
   "metadata": {},
   "outputs": [],
   "source": []
  }
 ],
 "metadata": {
  "kernelspec": {
   "display_name": "Python 3 (ipykernel)",
   "language": "python",
   "name": "python3"
  },
  "language_info": {
   "codemirror_mode": {
    "name": "ipython",
    "version": 3
   },
   "file_extension": ".py",
   "mimetype": "text/x-python",
   "name": "python",
   "nbconvert_exporter": "python",
   "pygments_lexer": "ipython3",
   "version": "3.11.7"
  }
 },
 "nbformat": 4,
 "nbformat_minor": 5
}
